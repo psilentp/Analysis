{
 "metadata": {
  "name": "SSM_analysis"
 },
 "nbformat": 3,
 "nbformat_minor": 0,
 "worksheets": [
  {
   "cells": [
    {
     "cell_type": "code",
     "collapsed": false,
     "input": [
      "cd Synaptic_analysis/"
     ],
     "language": "python",
     "metadata": {},
     "outputs": [
      {
       "output_type": "stream",
       "stream": "stdout",
       "text": [
        "/Users/psilentp/Documents/Projects/Analysis/Synaptic_analysis\n"
       ]
      }
     ],
     "prompt_number": 1
    },
    {
     "cell_type": "code",
     "collapsed": false,
     "input": [
      "import psummary_chemocircuit as psum\n",
      "reload(psum)"
     ],
     "language": "python",
     "metadata": {},
     "outputs": [
      {
       "output_type": "pyout",
       "prompt_number": 19,
       "text": [
        "<module 'psummary_chemocircuit' from 'psummary_chemocircuit.py'>"
       ]
      }
     ],
     "prompt_number": 19
    },
    {
     "cell_type": "code",
     "collapsed": false,
     "input": [
      "#ASH -> AVB Heka cell #92\n",
      "psum.ssm_fig(92)\n",
      "#AVA-> AVB  Heka cell #41\n",
      "psum.ssm_fig(41)\n",
      "#AVB -> AVA Heka cell #72\n",
      "psum.ssm_fig(72)"
     ],
     "language": "python",
     "metadata": {},
     "outputs": [
      {
       "output_type": "stream",
       "stream": "stdout",
       "text": [
        "/Volumes/Data/CENs_HEKA/CEN092/THL_2011-04-27_20-47-34_000.dat\n",
        "/Volumes/Data/CENs_HEKA/CEN041/THL_2011-01-18_22-02-59_000.dat"
       ]
      },
      {
       "output_type": "stream",
       "stream": "stdout",
       "text": [
        "\n",
        "/Volumes/Data/CENs_HEKA/CEN072/THL_2011-03-29_16-01-13_000.dat"
       ]
      },
      {
       "output_type": "stream",
       "stream": "stdout",
       "text": [
        "\n"
       ]
      }
     ],
     "prompt_number": 20
    },
    {
     "cell_type": "code",
     "collapsed": false,
     "input": [
      "#ASH -> AVB Heka cell #92\n",
      "psum.md_fig(92)\n",
      "#AVA-> AVB  Heka cell #41\n",
      "psum.md_fig(41)\n",
      "#AVB -> AVA Heka cell #72\n",
      "psum.md_fig(72)"
     ],
     "language": "python",
     "metadata": {},
     "outputs": [
      {
       "output_type": "stream",
       "stream": "stdout",
       "text": [
        "/Volumes/Data/CENs_HEKA/CEN092/THL_2011-04-27_20-47-34_000.dat\n",
        "/Volumes/Data/CENs_HEKA/CEN041/THL_2011-01-18_22-02-59_000.dat"
       ]
      },
      {
       "output_type": "stream",
       "stream": "stdout",
       "text": [
        "\n",
        "/Volumes/Data/CENs_HEKA/CEN072/THL_2011-03-29_16-01-13_000.dat"
       ]
      },
      {
       "output_type": "stream",
       "stream": "stdout",
       "text": [
        "\n"
       ]
      }
     ],
     "prompt_number": 7
    },
    {
     "cell_type": "code",
     "collapsed": false,
     "input": [],
     "language": "python",
     "metadata": {},
     "outputs": []
    },
    {
     "cell_type": "code",
     "collapsed": false,
     "input": [
      "import pylab as plb"
     ],
     "language": "python",
     "metadata": {},
     "outputs": [],
     "prompt_number": 4
    },
    {
     "cell_type": "code",
     "collapsed": false,
     "input": [
      "db[1374]"
     ],
     "language": "python",
     "metadata": {},
     "outputs": [
      {
       "output_type": "pyout",
       "prompt_number": 7,
       "text": [
        "<persistent broken cendb.Cell instance '\\x00\\x00\\x00\\x00\\x00\\x00\\x02\\xcc'>"
       ]
      }
     ],
     "prompt_number": 7
    },
    {
     "cell_type": "code",
     "collapsed": false,
     "input": [
      "import struct"
     ],
     "language": "python",
     "metadata": {},
     "outputs": [],
     "prompt_number": 12
    },
    {
     "cell_type": "code",
     "collapsed": false,
     "input": [
      "struct.calcsize('I')"
     ],
     "language": "python",
     "metadata": {},
     "outputs": [
      {
       "output_type": "pyout",
       "prompt_number": 19,
       "text": [
        "4"
       ]
      }
     ],
     "prompt_number": 19
    },
    {
     "cell_type": "code",
     "collapsed": false,
     "input": [],
     "language": "python",
     "metadata": {},
     "outputs": [],
     "prompt_number": 16
    },
    {
     "cell_type": "code",
     "collapsed": false,
     "input": [],
     "language": "python",
     "metadata": {},
     "outputs": []
    }
   ],
   "metadata": {}
  }
 ]
}